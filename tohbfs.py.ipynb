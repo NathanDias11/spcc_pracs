{
 "cells": [
  {
   "cell_type": "code",
   "execution_count": 10,
   "id": "cafe5bfc",
   "metadata": {},
   "outputs": [
    {
     "name": "stdout",
     "output_type": "stream",
     "text": [
      "Move disk 1 from source to auxiliary\n",
      "Move disk 1 from source to target\n",
      "Move disk 2 from source to target\n",
      "Move disk 1 from auxiliary to target\n",
      "Move disk 2 from source to auxiliary\n",
      "Move disk 1 from auxiliary to target\n",
      "Move disk 2 from source to auxiliary\n",
      "Move disk 3 from source to auxiliary\n"
     ]
    }
   ],
   "source": [
    "from collections import deque\n",
    "\n",
    "def print_move(source, target, disk):\n",
    "    print(f\"Move disk {disk} from {source} to {target}\")\n",
    "\n",
    "def hanoi(n, source, target, auxiliary):\n",
    "    # Create a queue for BFS\n",
    "    queue = deque([(source, target, auxiliary)])\n",
    "\n",
    "    while queue:\n",
    "        source, target, auxiliary = queue.popleft()\n",
    "\n",
    "        # If all disks are in the target peg, we have solved the problem\n",
    "        if len(target) == n:\n",
    "            return source, target, auxiliary\n",
    "\n",
    "        # Move a disk from source to auxiliary\n",
    "        if source and (not auxiliary or source[-1] < auxiliary[-1]): # A && (~ B || C(ka last element) < B (ka last element) )\n",
    "            print_move('source', 'auxiliary', source[-1])\n",
    "            new_source, new_auxiliary = source[:-1], auxiliary + [source[-1]]\n",
    "            queue.append((new_source, target, new_auxiliary))\n",
    "\n",
    "        # Move a disk from source to target\n",
    "        if source and (not target or source[-1] < target[-1]):\n",
    "            print_move('source', 'target', source[-1])\n",
    "            new_source, new_target = source[:-1], target + [source[-1]]\n",
    "            queue.append((new_source, new_target, auxiliary))\n",
    "\n",
    "        # Move a disk from auxiliary to target\n",
    "        if auxiliary and (not target or auxiliary[-1] < target[-1]):\n",
    "            print_move('auxiliary', 'target', auxiliary[-1])\n",
    "            new_auxiliary, new_target = auxiliary[:-1], target + [auxiliary[-1]]\n",
    "            queue.append((source, new_target, new_auxiliary))\n",
    "\n",
    "# Test the function\n",
    "source = [3, 2, 1]\n",
    "target = []\n",
    "auxiliary = []\n",
    "hanoi(3, source, target, auxiliary)"
   ]
  },
  {
   "cell_type": "code",
   "execution_count": 14,
   "id": "81c2d4a2",
   "metadata": {},
   "outputs": [
    {
     "name": "stdout",
     "output_type": "stream",
     "text": [
      "Move the disk 1 from source to auxillary\n",
      "Move the disk 1 from source to target\n",
      "Move the disk 2 from source to target\n",
      "Move the disk 1 from auxillary to target\n",
      "Move the disk 2 from source to auxillary\n",
      "Move the disk 1 from auxillary to target\n",
      "Move the disk 2 from source to auxillary\n",
      "Move the disk 3 from source to auxillary\n"
     ]
    }
   ],
   "source": [
    "from collections import deque\n",
    "\n",
    "def print_move(source,target,disk):\n",
    "    print(f\"Move the disk {disk} from {source} to {target}\")\n",
    "    \n",
    "    \n",
    "def bfshanoi(n,source,target,auxillary):\n",
    "    queue = deque([(source,target,auxillary)])\n",
    "    \n",
    "    while queue:\n",
    "        source,target,auxillary = queue.popleft()\n",
    "        \n",
    "        if len(target) == n:\n",
    "            return source,target,auxillary\n",
    "        \n",
    "        # source to auxillary\n",
    "        if source and (not auxillary or source[-1] < auxillary[-1]):\n",
    "            print_move(\"source\", \"auxillary\", source[-1])\n",
    "            new_source, new_auxillary = source[:-1], auxillary +  [source[-1]]\n",
    "            queue.append((new_source,target,new_auxillary))\n",
    "                       \n",
    "        # source to target               \n",
    "        if source and (not target or source[-1] < target[-1]):\n",
    "            print_move(\"source\", \"target\", source[-1])\n",
    "            new_source, new_target = source[:-1], target +  [source[-1]]\n",
    "            queue.append((new_source,new_target,auxillary))               \n",
    "                       \n",
    "                       \n",
    "        # auxillary to target                \n",
    "        if auxillary and (not target or auxillary[-1] < target[-1]):\n",
    "            print_move(\"auxillary\", \"target\", auxillary[-1])\n",
    "            new_auxillary, new_target = auxillary[:-1], target +  [auxillary[-1]]\n",
    "            queue.append((source,new_target,new_auxillary))   \n",
    "            \n",
    "            \n",
    "            \n",
    "source = [3,2,1]\n",
    "target = []\n",
    "auxillary = []\n",
    "bfshanoi(3,source,target,auxillary)\n",
    "                       \n",
    "                       \n",
    "                       \n",
    "                       \n",
    "                       \n",
    "                       \n",
    "                       \n",
    "                       "
   ]
  },
  {
   "cell_type": "code",
   "execution_count": null,
   "id": "0c128bd6",
   "metadata": {},
   "outputs": [],
   "source": []
  }
 ],
 "metadata": {
  "kernelspec": {
   "display_name": "Python 3 (ipykernel)",
   "language": "python",
   "name": "python3"
  },
  "language_info": {
   "codemirror_mode": {
    "name": "ipython",
    "version": 3
   },
   "file_extension": ".py",
   "mimetype": "text/x-python",
   "name": "python",
   "nbconvert_exporter": "python",
   "pygments_lexer": "ipython3",
   "version": "3.11.3"
  }
 },
 "nbformat": 4,
 "nbformat_minor": 5
}
