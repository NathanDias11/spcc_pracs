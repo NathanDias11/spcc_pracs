{
 "cells": [
  {
   "cell_type": "code",
   "execution_count": 1,
   "id": "62d4a8ba",
   "metadata": {},
   "outputs": [
    {
     "name": "stdout",
     "output_type": "stream",
     "text": [
      "Goal state is reachable\n",
      "Steps:\n",
      "(0, 0)\n",
      "(5, 0)\n",
      "(2, 3)\n",
      "(2, 0)\n",
      "(0, 2)\n",
      "(5, 2)\n",
      "(4, 3)\n",
      "(4, 0)\n"
     ]
    }
   ],
   "source": [
    "from collections import deque\n",
    "\n",
    "# Production rules\n",
    "def fill_first_jug(x, y, a):\n",
    "    return (a, y)\n",
    "\n",
    "def fill_second_jug(x, y, b):\n",
    "    return (x, b)\n",
    "\n",
    "def empty_first_jug(x, y):\n",
    "    return (0, y)\n",
    "\n",
    "def empty_second_jug(x, y):\n",
    "    return (x, 0)\n",
    "\n",
    "def pour_from_second_to_first(x, y, a, b):\n",
    "    return (min(x + y, a), max(0, x + y - a))\n",
    "\n",
    "def pour_from_first_to_second(x, y, a, b):\n",
    "    return (max(0, x + y - b), min(x + y, b))\n",
    "\n",
    "# BFS function\n",
    "def bfs(initial_state, goal_state, a, b):\n",
    "    queue = deque([(initial_state, [initial_state])])\n",
    "    visited = set()\n",
    "    while queue:\n",
    "        state, path = queue.popleft()\n",
    "        if state == goal_state:\n",
    "            return path\n",
    "        if state in visited:\n",
    "            continue\n",
    "        visited.add(state)\n",
    "        x, y = state\n",
    "        if x < a:\n",
    "            queue.append((fill_first_jug(x, y, a), path + [fill_first_jug(x, y, a)]))\n",
    "        if y < b:\n",
    "            queue.append((fill_second_jug(x, y, b), path + [fill_second_jug(x, y, b)]))\n",
    "        if x > 0:\n",
    "            queue.append((empty_first_jug(x, y), path + [empty_first_jug(x, y)]))\n",
    "        if y > 0:\n",
    "            queue.append((empty_second_jug(x, y), path + [empty_second_jug(x, y)]))\n",
    "        if y > 0:\n",
    "            queue.append((pour_from_second_to_first(x, y, a, b), path + [pour_from_second_to_first(x, y, a, b)]))\n",
    "        if x > 0:\n",
    "            queue.append((pour_from_first_to_second(x, y, a, b), path + [pour_from_first_to_second(x, y, a, b)]))\n",
    "    return False\n",
    "\n",
    "# Main function\n",
    "def main():\n",
    "    initial_state = (0, 0)\n",
    "    goal_state = (4, 0)\n",
    "    a = 5\n",
    "    b = 3\n",
    "    result = bfs(initial_state, goal_state, a, b)\n",
    "    if result:\n",
    "        print(\"Goal state is reachable\")\n",
    "        print(\"Steps:\")\n",
    "        for step in result:\n",
    "            print(step)\n",
    "    else:\n",
    "        print(\"Goal state is not reachable\")\n",
    "\n",
    "if __name__ == '__main__':\n",
    "    main()\n"
   ]
  },
  {
   "cell_type": "code",
   "execution_count": null,
   "id": "223a7670",
   "metadata": {},
   "outputs": [],
   "source": []
  }
 ],
 "metadata": {
  "kernelspec": {
   "display_name": "Python 3 (ipykernel)",
   "language": "python",
   "name": "python3"
  },
  "language_info": {
   "codemirror_mode": {
    "name": "ipython",
    "version": 3
   },
   "file_extension": ".py",
   "mimetype": "text/x-python",
   "name": "python",
   "nbconvert_exporter": "python",
   "pygments_lexer": "ipython3",
   "version": "3.11.3"
  }
 },
 "nbformat": 4,
 "nbformat_minor": 5
}
