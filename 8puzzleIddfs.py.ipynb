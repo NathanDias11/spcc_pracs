{
 "cells": [
  {
   "cell_type": "code",
   "execution_count": null,
   "id": "3fd11a53",
   "metadata": {},
   "outputs": [],
   "source": [
    "\n",
    "\n",
    "def find_blank_pos(state):\n",
    "    for i in range(9):\n",
    "        if state[i] == 0:\n",
    "            return i // 3, i % 3\n",
    "\n",
    "def is_goal(state):\n",
    "    goal_state = [1, 2, 3, 4, 5, 6, 7, 8, 0]\n",
    "    return state == goal_state\n",
    "\n",
    "def possible_actions(pos):\n",
    "    actions = ['U', 'D', 'L', 'R']\n",
    "    x, y = pos\n",
    "    if x == 0:\n",
    "        actions.remove('U')\n",
    "    if x == 2:\n",
    "        actions.remove('D')\n",
    "    if y == 0:\n",
    "        actions.remove('L')\n",
    "    if y == 2:\n",
    "        actions.remove('R')\n",
    "    return actions\n",
    "\n",
    "def result(state, action):\n",
    "    blank_pos = find_blank_pos(state)\n",
    "    x, y = blank_pos\n",
    "    new_state = state.copy()\n",
    "    if action == 'U':\n",
    "        new_state[x * 3 + y], new_state[(x - 1) * 3 + y] = new_state[(x - 1) * 3 + y], new_state[x * 3 + y]\n",
    "    elif action == 'D':\n",
    "        new_state[x * 3 + y], new_state[(x + 1) * 3 + y] = new_state[(x + 1) * 3 + y], new_state[x * 3 + y]\n",
    "    elif action == 'L':\n",
    "        new_state[x * 3 + y], new_state[x * 3 + y - 1] = new_state[x * 3 + y - 1], new_state[x * 3 + y]\n",
    "    elif action == 'R':\n",
    "        new_state[x * 3 + y], new_state[x * 3 + y + 1] = new_state[x * 3 + y + 1], new_state[x * 3 + y]\n",
    "    return new_state\n",
    "\n",
    "def iterative_deepening_search(initial_state):\n",
    "    for depth in range(1, 100):\n",
    "        frontier = [(initial_state, [])]\n",
    "        while frontier:\n",
    "            state, path = frontier.pop()\n",
    "            if len(path) > depth:\n",
    "                continue\n",
    "            if is_goal(state):\n",
    "                print(\"Goal found at depth:\", depth)\n",
    "                print(\"Path to goal:\", path)\n",
    "                return state\n",
    "            for action in possible_actions(find_blank_pos(state)):\n",
    "                new_state = result(state, action)\n",
    "                frontier.append((new_state, path + [action]))\n",
    "    return None\n",
    "\n",
    "initial_state = [1, 2, 3, 4, 0, 6, 7, 8, 5]\n",
    "goal_state = iterative_deepening_search(initial_state)\n",
    "     "
   ]
  },
  {
   "cell_type": "code",
   "execution_count": null,
   "id": "e4463484",
   "metadata": {},
   "outputs": [],
   "source": []
  }
 ],
 "metadata": {
  "kernelspec": {
   "display_name": "Python 3 (ipykernel)",
   "language": "python",
   "name": "python3"
  },
  "language_info": {
   "codemirror_mode": {
    "name": "ipython",
    "version": 3
   },
   "file_extension": ".py",
   "mimetype": "text/x-python",
   "name": "python",
   "nbconvert_exporter": "python",
   "pygments_lexer": "ipython3",
   "version": "3.11.3"
  }
 },
 "nbformat": 4,
 "nbformat_minor": 5
}
