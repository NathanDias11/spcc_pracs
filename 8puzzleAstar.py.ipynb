{
 "cells": [
  {
   "cell_type": "code",
   "execution_count": 22,
   "id": "deaf7945",
   "metadata": {},
   "outputs": [
    {
     "name": "stdout",
     "output_type": "stream",
     "text": [
      "found solution with cost 4\n",
      "\n",
      "start state\n",
      "[1, 2, 3]\n",
      "[0, 4, 6]\n",
      "[7, 5, 8]\n"
     ]
    },
    {
     "ename": "TypeError",
     "evalue": "cannot unpack non-iterable int object",
     "output_type": "error",
     "traceback": [
      "\u001b[1;31m---------------------------------------------------------------------------\u001b[0m",
      "\u001b[1;31mTypeError\u001b[0m                                 Traceback (most recent call last)",
      "Cell \u001b[1;32mIn[22], line 57\u001b[0m\n\u001b[0;32m     55\u001b[0m     \u001b[38;5;28mprint\u001b[39m(puzzle[i\u001b[38;5;241m*\u001b[39m\u001b[38;5;241m3\u001b[39m:i\u001b[38;5;241m*\u001b[39m\u001b[38;5;241m3\u001b[39m\u001b[38;5;241m+\u001b[39m\u001b[38;5;241m3\u001b[39m])       \n\u001b[0;32m     56\u001b[0m \u001b[38;5;28;01mfor\u001b[39;00m step, move \u001b[38;5;129;01min\u001b[39;00m \u001b[38;5;28menumerate\u001b[39m(path, start\u001b[38;5;241m=\u001b[39m\u001b[38;5;241m1\u001b[39m):\n\u001b[1;32m---> 57\u001b[0m     x1, y1, x2, y2 \u001b[38;5;241m=\u001b[39m move\n\u001b[0;32m     58\u001b[0m     puzzle[x1\u001b[38;5;241m*\u001b[39m\u001b[38;5;241m3\u001b[39m\u001b[38;5;241m+\u001b[39my1],puzzle[x2\u001b[38;5;241m*\u001b[39m\u001b[38;5;241m3\u001b[39m\u001b[38;5;241m+\u001b[39my2] \u001b[38;5;241m=\u001b[39m puzzle[x2\u001b[38;5;241m*\u001b[39m\u001b[38;5;241m3\u001b[39m\u001b[38;5;241m+\u001b[39my2],puzzle[x1\u001b[38;5;241m*\u001b[39m\u001b[38;5;241m3\u001b[39m\u001b[38;5;241m+\u001b[39my1]\n\u001b[0;32m     59\u001b[0m     \u001b[38;5;28mprint\u001b[39m(\u001b[38;5;124mf\u001b[39m\u001b[38;5;124m'\u001b[39m\u001b[38;5;130;01m\\n\u001b[39;00m\u001b[38;5;124mstep \u001b[39m\u001b[38;5;132;01m{\u001b[39;00mstep\u001b[38;5;132;01m}\u001b[39;00m\u001b[38;5;124m:\u001b[39m\u001b[38;5;124m'\u001b[39m)\n",
      "\u001b[1;31mTypeError\u001b[0m: cannot unpack non-iterable int object"
     ]
    }
   ],
   "source": [
    "import heapq\n",
    "\n",
    "def manhattan_distance(puzzle,goal):\n",
    "    distance=0\n",
    "    for i in range(9):\n",
    "        if puzzle[i]==0 or goal[i]==0:\n",
    "            continue\n",
    "        x1,y1=divmod(i,3)\n",
    "        x2,y2=divmod(puzzle.index(goal[i]),3)\n",
    "        distance += abs(x1-x2) + abs(y1-y2)\n",
    "    return distance\n",
    "\n",
    "def is_solvable(puzzle,goal):\n",
    "    puzzle=[i for i in puzzle if i!=0]\n",
    "    inversions=0\n",
    "    for i in range(len(puzzle)-1):\n",
    "        for j in range(i+1, len(puzzle)):\n",
    "            if puzzle[i]>puzzle[j]:\n",
    "                inversions += 1\n",
    "    return inversions %2 ==0\n",
    "\n",
    "def solve_puzzle(puzzle,goal):\n",
    "    if not is_solvable(puzzle,goal):\n",
    "        return [],[]\n",
    "    heap=[]\n",
    "    heapq.heappush(heap,(0,puzzle,[]))\n",
    "    visited = set()\n",
    "    while heap:\n",
    "        cost,current,path=heapq.heappop(heap)\n",
    "        if current == goal:\n",
    "            return cost,path\n",
    "        index=current.index(0)\n",
    "        x,y=divmod(index,3)\n",
    "        for dx , dy in ((1,0),(-1,0),(0,1),(0,-1)):\n",
    "            x2,y2 = x+dx,y+dy\n",
    "            if 0<=x2<3 and 0<=y2<3 :\n",
    "                next_puzzle=list(current)\n",
    "                next_index = x2 * 3 + y2\n",
    "                next_puzzle[index],next_puzzle[next_index] = next_puzzle[next_index],next_puzzle[index]\n",
    "                next_path = path + [x,y,x2,y2]\n",
    "                next_cost = cost + 1 + manhattan_distance(next_puzzle,goal)\n",
    "                if tuple(next_puzzle) not in visited:\n",
    "                    visited.add(tuple(next_puzzle))\n",
    "                    heapq.heappush(heap,(next_cost,next_puzzle,next_path))\n",
    "    return [],[]\n",
    "\n",
    "if __name__ == '__main__':\n",
    "    puzzle = [1, 2, 3, 0, 4, 6, 7, 5, 8]\n",
    "    goal = [1, 2, 3, 4, 5, 6, 7, 8, 0]\n",
    "    cost,path = solve_puzzle(puzzle,goal)\n",
    "    if cost:\n",
    "        print('found solution with cost',cost)\n",
    "        print('\\nstart state')\n",
    "        for i in range(3):\n",
    "            print(puzzle[i*3:i*3+3])       \n",
    "        for step, move in enumerate(path, start=1):\n",
    "            x1, y1, x2, y2 = move\n",
    "            puzzle[x1*3+y1],puzzle[x2*3+y2] = puzzle[x2*3+y2],puzzle[x1*3+y1]\n",
    "            print(f'\\nstep {step}:')\n",
    "            for i in range(3):\n",
    "                print(puzzle[i*3:i*3+3])\n",
    "                \n",
    "    else :\n",
    "        print('No solution')\n",
    "                  \n",
    "                  \n",
    "    \n",
    "                \n",
    "            \n",
    "    "
   ]
  },
  {
   "cell_type": "code",
   "execution_count": null,
   "id": "38d540e4",
   "metadata": {},
   "outputs": [],
   "source": []
  },
  {
   "cell_type": "code",
   "execution_count": null,
   "id": "628b6d42",
   "metadata": {},
   "outputs": [],
   "source": []
  }
 ],
 "metadata": {
  "kernelspec": {
   "display_name": "Python 3 (ipykernel)",
   "language": "python",
   "name": "python3"
  },
  "language_info": {
   "codemirror_mode": {
    "name": "ipython",
    "version": 3
   },
   "file_extension": ".py",
   "mimetype": "text/x-python",
   "name": "python",
   "nbconvert_exporter": "python",
   "pygments_lexer": "ipython3",
   "version": "3.11.3"
  }
 },
 "nbformat": 4,
 "nbformat_minor": 5
}
