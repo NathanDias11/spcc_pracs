{
 "cells": [
  {
   "cell_type": "code",
   "execution_count": 1,
   "id": "7b63f686",
   "metadata": {},
   "outputs": [
    {
     "name": "stdout",
     "output_type": "stream",
     "text": [
      "Best route: ['A', 'E', 'D', 'B', 'C'] \n",
      "Total distance: 11.042019056626884\n"
     ]
    }
   ],
   "source": [
    "import random\n",
    "\n",
    "cities = {'A': (0, 0), 'B': (5, 2), 'C': (6, 3), 'D': (3, 4), 'E': (2, 5)}\n",
    "num_iterations, pop_size = 100, 50\n",
    "\n",
    "dist = lambda c1, c2: ((c1[0] - c2[0])**2 + (c1[1] - c2[1])**2)**0.5\n",
    "route_dist = lambda route: sum(dist(cities[route[i]], cities[route[i+1]]) for i in range(len(route)-1))\n",
    "\n",
    "population = [random.sample(list(cities.keys()), len(cities)) for _ in range(pop_size)]\n",
    "\n",
    "for _ in range(num_iterations):\n",
    "    p1, p2 = random.sample(population, 2)\n",
    "    start, end = sorted(random.sample(range(len(cities)), 2))\n",
    "    child = p1[start:end] + [c for c in p2 if c not in p1[start:end]]\n",
    "    if random.random() < 0.1:\n",
    "        idx1, idx2 = random.sample(range(len(child)), 2)\n",
    "        child[idx1], child[idx2] = child[idx2], child[idx1]\n",
    "    population.remove(max(population, key=route_dist)); population.append(child)\n",
    "\n",
    "best_route = min(population, key=route_dist)\n",
    "print(\"Best route:\", best_route, \"\\nTotal distance:\", route_dist(best_route))"
   ]
  },
  {
   "cell_type": "code",
   "execution_count": 7,
   "id": "ff6cb2ac",
   "metadata": {},
   "outputs": [
    {
     "name": "stdout",
     "output_type": "stream",
     "text": [
      "Best Route ['A', 'E', 'D', 'B', 'C'] \n",
      " Total Distance 11.042019056626884\n"
     ]
    }
   ],
   "source": [
    "import random\n",
    "\n",
    "cities = {'A': (0,0), 'B': (5,2), 'C': (6,3), 'D': (3,4), 'E': (2,5)}\n",
    "num_iterations,pop_size = 100,50\n",
    "\n",
    "dist = lambda c1,c2 : ((c1[0] - c2[0])**2 + (c1[1] - c2[1])**2)**0.5\n",
    "route_dist = lambda route : sum(dist(cities[route[i]], cities[route[i+1]]) for i in range(len(route)-1))\n",
    "\n",
    "\n",
    "population = [random.sample(list(cities.keys()), len(cities)) for _ in range(pop_size)]\n",
    "\n",
    "for _ in range(num_iterations):\n",
    "    p1,p2 = random.sample(population,2)\n",
    "    start, end = sorted(random.sample(range(len(cities)),2))\n",
    "    child = p1[start:end] + [c for c in p2 if c not in p1[start:end]]\n",
    "    if random.random() < 0.1:\n",
    "        idx1,idx2 = random.sample(range(len(child)),2)\n",
    "        child[idx2],child[idx2] = child[idx2], child[idx2]\n",
    "    population.remove(max(population, key=route_dist)); population.append(child)\n",
    "    \n",
    "best_route = min(population, key=route_dist)\n",
    "print(f\"Best Route {best_route} \\n Total Distance {route_dist(best_route)}\")\n",
    "\n",
    "\n",
    "\n",
    "\n"
   ]
  },
  {
   "cell_type": "code",
   "execution_count": null,
   "id": "ffdcb60e",
   "metadata": {},
   "outputs": [],
   "source": []
  }
 ],
 "metadata": {
  "kernelspec": {
   "display_name": "Python 3 (ipykernel)",
   "language": "python",
   "name": "python3"
  },
  "language_info": {
   "codemirror_mode": {
    "name": "ipython",
    "version": 3
   },
   "file_extension": ".py",
   "mimetype": "text/x-python",
   "name": "python",
   "nbconvert_exporter": "python",
   "pygments_lexer": "ipython3",
   "version": "3.11.3"
  }
 },
 "nbformat": 4,
 "nbformat_minor": 5
}
